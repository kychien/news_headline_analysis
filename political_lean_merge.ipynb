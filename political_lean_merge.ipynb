{
 "cells": [
  {
   "cell_type": "code",
   "execution_count": 1,
   "metadata": {},
   "outputs": [],
   "source": [
    "import pandas as pd"
   ]
  },
  {
   "cell_type": "code",
   "execution_count": 2,
   "metadata": {},
   "outputs": [],
   "source": [
    "a1 = pd.read_csv(\"Resources/CNN_headlines.csv\")\n",
    "a2 = pd.read_csv(\"Resources/Fox News_headlines.csv\")\n",
    "a3 = pd.read_csv(\"Resources/Vox_headlines.csv\")\n",
    "a4 = pd.read_csv(\"Resources/National Review_headlines.csv\")"
   ]
  },
  {
   "cell_type": "code",
   "execution_count": 8,
   "metadata": {},
   "outputs": [],
   "source": [
    "combined_df = a1.append(a2).append(a3).append(a4)"
   ]
  },
  {
   "cell_type": "code",
   "execution_count": 10,
   "metadata": {},
   "outputs": [
    {
     "data": {
      "text/plain": [
       "26962"
      ]
     },
     "execution_count": 10,
     "metadata": {},
     "output_type": "execute_result"
    }
   ],
   "source": [
    "len(combined_df)"
   ]
  },
  {
   "cell_type": "code",
   "execution_count": 11,
   "metadata": {},
   "outputs": [
    {
     "data": {
      "text/html": [
       "<div>\n",
       "<style scoped>\n",
       "    .dataframe tbody tr th:only-of-type {\n",
       "        vertical-align: middle;\n",
       "    }\n",
       "\n",
       "    .dataframe tbody tr th {\n",
       "        vertical-align: top;\n",
       "    }\n",
       "\n",
       "    .dataframe thead th {\n",
       "        text-align: right;\n",
       "    }\n",
       "</style>\n",
       "<table border=\"1\" class=\"dataframe\">\n",
       "  <thead>\n",
       "    <tr style=\"text-align: right;\">\n",
       "      <th></th>\n",
       "      <th>title</th>\n",
       "      <th>publication</th>\n",
       "      <th>headline</th>\n",
       "      <th>bias</th>\n",
       "      <th>lean</th>\n",
       "      <th>is_sarcastic</th>\n",
       "      <th>head_char</th>\n",
       "    </tr>\n",
       "  </thead>\n",
       "  <tbody>\n",
       "    <tr>\n",
       "      <th>0</th>\n",
       "      <td>Muslims offer mixed response to new Mohammed c...</td>\n",
       "      <td>CNN</td>\n",
       "      <td>muslims offer mixed response to new mohammed c...</td>\n",
       "      <td>LL</td>\n",
       "      <td>L</td>\n",
       "      <td>0</td>\n",
       "      <td>muslims offer mixed response to new mohammed c...</td>\n",
       "    </tr>\n",
       "    <tr>\n",
       "      <th>1</th>\n",
       "      <td>Report claims DOJ probe of Clinton Foundation,...</td>\n",
       "      <td>Fox News</td>\n",
       "      <td>report claims doj probe of clinton foundation,...</td>\n",
       "      <td>RR</td>\n",
       "      <td>R</td>\n",
       "      <td>0</td>\n",
       "      <td>report claims doj probe of clinton foundation ...</td>\n",
       "    </tr>\n",
       "    <tr>\n",
       "      <th>2</th>\n",
       "      <td>It’s all your money: US aiding business start-...</td>\n",
       "      <td>Fox News</td>\n",
       "      <td>it’s all your money: us aiding business start-...</td>\n",
       "      <td>RR</td>\n",
       "      <td>R</td>\n",
       "      <td>0</td>\n",
       "      <td>it ppossession all your money pcolon us aiding...</td>\n",
       "    </tr>\n",
       "    <tr>\n",
       "      <th>3</th>\n",
       "      <td>9 health reform lies Congress members are tell...</td>\n",
       "      <td>Vox</td>\n",
       "      <td>9 health reform lies congress members are tell...</td>\n",
       "      <td>LL</td>\n",
       "      <td>L</td>\n",
       "      <td>0</td>\n",
       "      <td>9 health reform lies congress members are tell...</td>\n",
       "    </tr>\n",
       "    <tr>\n",
       "      <th>4</th>\n",
       "      <td>Russian banker who met Kushner has Putin ties</td>\n",
       "      <td>CNN</td>\n",
       "      <td>russian banker who met kushner has putin ties</td>\n",
       "      <td>LL</td>\n",
       "      <td>L</td>\n",
       "      <td>0</td>\n",
       "      <td>russian banker who met kushner has putin ties</td>\n",
       "    </tr>\n",
       "  </tbody>\n",
       "</table>\n",
       "</div>"
      ],
      "text/plain": [
       "                                               title publication  \\\n",
       "0  Muslims offer mixed response to new Mohammed c...         CNN   \n",
       "1  Report claims DOJ probe of Clinton Foundation,...    Fox News   \n",
       "2  It’s all your money: US aiding business start-...    Fox News   \n",
       "3  9 health reform lies Congress members are tell...         Vox   \n",
       "4      Russian banker who met Kushner has Putin ties         CNN   \n",
       "\n",
       "                                            headline bias lean  is_sarcastic  \\\n",
       "0  muslims offer mixed response to new mohammed c...   LL    L             0   \n",
       "1  report claims doj probe of clinton foundation,...   RR    R             0   \n",
       "2  it’s all your money: us aiding business start-...   RR    R             0   \n",
       "3  9 health reform lies congress members are tell...   LL    L             0   \n",
       "4      russian banker who met kushner has putin ties   LL    L             0   \n",
       "\n",
       "                                           head_char  \n",
       "0  muslims offer mixed response to new mohammed c...  \n",
       "1  report claims doj probe of clinton foundation ...  \n",
       "2  it ppossession all your money pcolon us aiding...  \n",
       "3  9 health reform lies congress members are tell...  \n",
       "4      russian banker who met kushner has putin ties  "
      ]
     },
     "execution_count": 11,
     "metadata": {},
     "output_type": "execute_result"
    }
   ],
   "source": [
    "shuffled_df = combined_df.sample(frac = 1).reset_index(drop = True)\n",
    "shuffled_df.head()"
   ]
  },
  {
   "cell_type": "code",
   "execution_count": 12,
   "metadata": {},
   "outputs": [],
   "source": [
    "shuffled_df.to_csv(\"Resources/political_lean_model_data.csv\", index = False)"
   ]
  },
  {
   "cell_type": "code",
   "execution_count": null,
   "metadata": {},
   "outputs": [],
   "source": []
  }
 ],
 "metadata": {
  "kernelspec": {
   "display_name": "Python 3",
   "language": "python",
   "name": "python3"
  },
  "language_info": {
   "codemirror_mode": {
    "name": "ipython",
    "version": 3
   },
   "file_extension": ".py",
   "mimetype": "text/x-python",
   "name": "python",
   "nbconvert_exporter": "python",
   "pygments_lexer": "ipython3",
   "version": "3.6.5"
  }
 },
 "nbformat": 4,
 "nbformat_minor": 2
}
