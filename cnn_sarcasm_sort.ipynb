{
 "cells": [
  {
   "cell_type": "code",
   "execution_count": 1,
   "metadata": {},
   "outputs": [],
   "source": [
    "import pandas as pd"
   ]
  },
  {
   "cell_type": "code",
   "execution_count": 5,
   "metadata": {},
   "outputs": [
    {
     "data": {
      "text/html": [
       "<div>\n",
       "<style scoped>\n",
       "    .dataframe tbody tr th:only-of-type {\n",
       "        vertical-align: middle;\n",
       "    }\n",
       "\n",
       "    .dataframe tbody tr th {\n",
       "        vertical-align: top;\n",
       "    }\n",
       "\n",
       "    .dataframe thead th {\n",
       "        text-align: right;\n",
       "    }\n",
       "</style>\n",
       "<table border=\"1\" class=\"dataframe\">\n",
       "  <thead>\n",
       "    <tr style=\"text-align: right;\">\n",
       "      <th></th>\n",
       "      <th>title</th>\n",
       "      <th>publication</th>\n",
       "      <th>bias</th>\n",
       "      <th>lean</th>\n",
       "      <th>is_sarcastic</th>\n",
       "      <th>head_char</th>\n",
       "      <th>stop_tokens</th>\n",
       "      <th>probability</th>\n",
       "      <th>prediction</th>\n",
       "      <th>label</th>\n",
       "    </tr>\n",
       "  </thead>\n",
       "  <tbody>\n",
       "    <tr>\n",
       "      <th>0</th>\n",
       "      <td>High winds, rain lash Pacific Northwest</td>\n",
       "      <td>CNN</td>\n",
       "      <td>LL</td>\n",
       "      <td>L</td>\n",
       "      <td>0</td>\n",
       "      <td>high winds pcomma rain lash pacific northwest</td>\n",
       "      <td>['', 'high', 'winds', 'pcomma', 'rain', 'lash'...</td>\n",
       "      <td>[1.0647250908592353e-22,1.0]</td>\n",
       "      <td>1.0</td>\n",
       "      <td>1.0</td>\n",
       "    </tr>\n",
       "    <tr>\n",
       "      <th>1</th>\n",
       "      <td>Live updates: UK PM wants snap election</td>\n",
       "      <td>CNN</td>\n",
       "      <td>LL</td>\n",
       "      <td>L</td>\n",
       "      <td>0</td>\n",
       "      <td>live updates pcolon uk pm wants snap election</td>\n",
       "      <td>['', 'live', 'updates', 'pcolon', 'uk', 'pm', ...</td>\n",
       "      <td>[1.6286216009654714e-53,1.0]</td>\n",
       "      <td>1.0</td>\n",
       "      <td>1.0</td>\n",
       "    </tr>\n",
       "    <tr>\n",
       "      <th>2</th>\n",
       "      <td>Sources: Sean Hannity flew Gingrich to Trump ...</td>\n",
       "      <td>CNN</td>\n",
       "      <td>LL</td>\n",
       "      <td>L</td>\n",
       "      <td>0</td>\n",
       "      <td>sources pcolon sean hannity flew gingrich to ...</td>\n",
       "      <td>['', 'sources', 'pcolon', 'sean', 'hannity', '...</td>\n",
       "      <td>[5.34973669159576e-08,0.999999946502633]</td>\n",
       "      <td>1.0</td>\n",
       "      <td>1.0</td>\n",
       "    </tr>\n",
       "    <tr>\n",
       "      <th>3</th>\n",
       "      <td>#FBF: FDR’s toga party at the White House</td>\n",
       "      <td>CNN</td>\n",
       "      <td>LL</td>\n",
       "      <td>L</td>\n",
       "      <td>0</td>\n",
       "      <td>#fbf pcolon fdr ppossession toga party at the ...</td>\n",
       "      <td>['#fbf', 'pcolon', 'fdr', 'ppossession', 'toga...</td>\n",
       "      <td>[1.220999229328347e-12,0.999999999998779]</td>\n",
       "      <td>1.0</td>\n",
       "      <td>1.0</td>\n",
       "    </tr>\n",
       "    <tr>\n",
       "      <th>4</th>\n",
       "      <td>#SaysWho?  You don’t want to know</td>\n",
       "      <td>CNN</td>\n",
       "      <td>LL</td>\n",
       "      <td>L</td>\n",
       "      <td>0</td>\n",
       "      <td>#sayswho pquestion you dont want to know</td>\n",
       "      <td>['#sayswho', 'pquestion', 'dont', 'want', 'know']</td>\n",
       "      <td>[3.4858310942676112e-06,0.9999965141689057]</td>\n",
       "      <td>1.0</td>\n",
       "      <td>1.0</td>\n",
       "    </tr>\n",
       "  </tbody>\n",
       "</table>\n",
       "</div>"
      ],
      "text/plain": [
       "                                               title publication bias lean  \\\n",
       "0            High winds, rain lash Pacific Northwest         CNN   LL    L   \n",
       "1            Live updates: UK PM wants snap election         CNN   LL    L   \n",
       "2   Sources: Sean Hannity flew Gingrich to Trump ...         CNN   LL    L   \n",
       "3          #FBF: FDR’s toga party at the White House         CNN   LL    L   \n",
       "4                  #SaysWho?  You don’t want to know         CNN   LL    L   \n",
       "\n",
       "   is_sarcastic                                          head_char  \\\n",
       "0             0      high winds pcomma rain lash pacific northwest   \n",
       "1             0      live updates pcolon uk pm wants snap election   \n",
       "2             0   sources pcolon sean hannity flew gingrich to ...   \n",
       "3             0  #fbf pcolon fdr ppossession toga party at the ...   \n",
       "4             0           #sayswho pquestion you dont want to know   \n",
       "\n",
       "                                         stop_tokens  \\\n",
       "0  ['', 'high', 'winds', 'pcomma', 'rain', 'lash'...   \n",
       "1  ['', 'live', 'updates', 'pcolon', 'uk', 'pm', ...   \n",
       "2  ['', 'sources', 'pcolon', 'sean', 'hannity', '...   \n",
       "3  ['#fbf', 'pcolon', 'fdr', 'ppossession', 'toga...   \n",
       "4  ['#sayswho', 'pquestion', 'dont', 'want', 'know']   \n",
       "\n",
       "                                   probability  prediction  label  \n",
       "0                 [1.0647250908592353e-22,1.0]         1.0    1.0  \n",
       "1                 [1.6286216009654714e-53,1.0]         1.0    1.0  \n",
       "2     [5.34973669159576e-08,0.999999946502633]         1.0    1.0  \n",
       "3    [1.220999229328347e-12,0.999999999998779]         1.0    1.0  \n",
       "4  [3.4858310942676112e-06,0.9999965141689057]         1.0    1.0  "
      ]
     },
     "execution_count": 5,
     "metadata": {},
     "output_type": "execute_result"
    }
   ],
   "source": [
    "df = pd.read_csv(\"Resources/cnn_onion_test_results.csv\")\n",
    "df.head()"
   ]
  },
  {
   "cell_type": "code",
   "execution_count": 6,
   "metadata": {},
   "outputs": [
    {
     "name": "stdout",
     "output_type": "stream",
     "text": [
      "<class 'pandas.core.frame.DataFrame'>\n",
      "RangeIndex: 6982 entries, 0 to 6981\n",
      "Data columns (total 10 columns):\n",
      "title           6982 non-null object\n",
      "publication     6982 non-null object\n",
      "bias            6982 non-null object\n",
      "lean            6982 non-null object\n",
      "is_sarcastic    6982 non-null int64\n",
      "head_char       6982 non-null object\n",
      "stop_tokens     6982 non-null object\n",
      "probability     6982 non-null object\n",
      "prediction      6982 non-null float64\n",
      "label           6982 non-null float64\n",
      "dtypes: float64(2), int64(1), object(7)\n",
      "memory usage: 545.5+ KB\n"
     ]
    }
   ],
   "source": [
    "df.info()"
   ]
  },
  {
   "cell_type": "code",
   "execution_count": 7,
   "metadata": {},
   "outputs": [],
   "source": [
    "cnn_choice_df = df.loc[(df[\"publication\"] == \"CNN\") & (df[\"prediction\"] == 0)]"
   ]
  },
  {
   "cell_type": "code",
   "execution_count": 9,
   "metadata": {},
   "outputs": [
    {
     "name": "stdout",
     "output_type": "stream",
     "text": [
      "<class 'pandas.core.frame.DataFrame'>\n",
      "Int64Index: 668 entries, 54 to 6967\n",
      "Data columns (total 10 columns):\n",
      "title           668 non-null object\n",
      "publication     668 non-null object\n",
      "bias            668 non-null object\n",
      "lean            668 non-null object\n",
      "is_sarcastic    668 non-null int64\n",
      "head_char       668 non-null object\n",
      "stop_tokens     668 non-null object\n",
      "probability     668 non-null object\n",
      "prediction      668 non-null float64\n",
      "label           668 non-null float64\n",
      "dtypes: float64(2), int64(1), object(7)\n",
      "memory usage: 57.4+ KB\n"
     ]
    }
   ],
   "source": [
    "cnn_choice_df.info()"
   ]
  },
  {
   "cell_type": "code",
   "execution_count": 10,
   "metadata": {},
   "outputs": [],
   "source": [
    "cnn_choice_df.to_csv(\"Resources/cnn_prediction_articles.csv\", index = False)"
   ]
  },
  {
   "cell_type": "code",
   "execution_count": 14,
   "metadata": {},
   "outputs": [
    {
     "name": "stderr",
     "output_type": "stream",
     "text": [
      "C:\\Users\\jerem\\Anaconda3\\envs\\PythonData\\lib\\site-packages\\ipykernel_launcher.py:1: UserWarning: Boolean Series key will be reindexed to match DataFrame index.\n",
      "  \"\"\"Entry point for launching an IPython kernel.\n"
     ]
    }
   ],
   "source": [
    "trump_df = cnn_choice_df[df[\"head_char\"].str.contains(\"trump\")]"
   ]
  },
  {
   "cell_type": "code",
   "execution_count": 15,
   "metadata": {},
   "outputs": [
    {
     "data": {
      "text/plain": [
       "86"
      ]
     },
     "execution_count": 15,
     "metadata": {},
     "output_type": "execute_result"
    }
   ],
   "source": [
    "len(trump_df)"
   ]
  },
  {
   "cell_type": "code",
   "execution_count": null,
   "metadata": {},
   "outputs": [],
   "source": []
  }
 ],
 "metadata": {
  "kernelspec": {
   "display_name": "Python 3",
   "language": "python",
   "name": "python3"
  },
  "language_info": {
   "codemirror_mode": {
    "name": "ipython",
    "version": 3
   },
   "file_extension": ".py",
   "mimetype": "text/x-python",
   "name": "python",
   "nbconvert_exporter": "python",
   "pygments_lexer": "ipython3",
   "version": "3.6.5"
  }
 },
 "nbformat": 4,
 "nbformat_minor": 2
}
