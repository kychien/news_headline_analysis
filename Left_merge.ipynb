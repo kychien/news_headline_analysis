{
 "cells": [
  {
   "cell_type": "code",
   "execution_count": 1,
   "metadata": {},
   "outputs": [],
   "source": [
    "import pandas as pd"
   ]
  },
  {
   "cell_type": "code",
   "execution_count": 2,
   "metadata": {},
   "outputs": [],
   "source": [
    "a1 = pd.read_csv(\"Resources/CNN_headlines.csv\")\n",
    "a2 = pd.read_csv(\"Resources/Vox_headlines.csv\")"
   ]
  },
  {
   "cell_type": "code",
   "execution_count": 3,
   "metadata": {},
   "outputs": [
    {
     "data": {
      "text/html": [
       "<div>\n",
       "<style scoped>\n",
       "    .dataframe tbody tr th:only-of-type {\n",
       "        vertical-align: middle;\n",
       "    }\n",
       "\n",
       "    .dataframe tbody tr th {\n",
       "        vertical-align: top;\n",
       "    }\n",
       "\n",
       "    .dataframe thead th {\n",
       "        text-align: right;\n",
       "    }\n",
       "</style>\n",
       "<table border=\"1\" class=\"dataframe\">\n",
       "  <thead>\n",
       "    <tr style=\"text-align: right;\">\n",
       "      <th></th>\n",
       "      <th>title</th>\n",
       "      <th>publication</th>\n",
       "      <th>headline</th>\n",
       "      <th>bias</th>\n",
       "      <th>lean</th>\n",
       "      <th>is_sarcastic</th>\n",
       "      <th>head_char</th>\n",
       "    </tr>\n",
       "  </thead>\n",
       "  <tbody>\n",
       "    <tr>\n",
       "      <th>0</th>\n",
       "      <td>Major teachers union endorses Hillary Clinton</td>\n",
       "      <td>CNN</td>\n",
       "      <td>major teachers union endorses hillary clinton</td>\n",
       "      <td>LL</td>\n",
       "      <td>L</td>\n",
       "      <td>0</td>\n",
       "      <td>major teachers union endorses hillary clinton</td>\n",
       "    </tr>\n",
       "    <tr>\n",
       "      <th>1</th>\n",
       "      <td>CIA head: U.S. could handle Iran nuclear inspe...</td>\n",
       "      <td>CNN</td>\n",
       "      <td>cia head: usaabbrev could handle iran nuclear ...</td>\n",
       "      <td>LL</td>\n",
       "      <td>L</td>\n",
       "      <td>0</td>\n",
       "      <td>cia head pcolon usaabbrev could handle iran nu...</td>\n",
       "    </tr>\n",
       "    <tr>\n",
       "      <th>2</th>\n",
       "      <td>Primary elections 2016: Poll closing times and...</td>\n",
       "      <td>Vox</td>\n",
       "      <td>primary elections 2016: poll closing times and...</td>\n",
       "      <td>LL</td>\n",
       "      <td>L</td>\n",
       "      <td>0</td>\n",
       "      <td>primary elections 2016 pcolon poll closing tim...</td>\n",
       "    </tr>\n",
       "    <tr>\n",
       "      <th>3</th>\n",
       "      <td>HBO’s The Young Pope stars Jude Law as a smirk...</td>\n",
       "      <td>Vox</td>\n",
       "      <td>hbo’s the young pope stars jude law as a smirk...</td>\n",
       "      <td>LL</td>\n",
       "      <td>L</td>\n",
       "      <td>0</td>\n",
       "      <td>hbo ppossession the young pope stars jude law ...</td>\n",
       "    </tr>\n",
       "    <tr>\n",
       "      <th>4</th>\n",
       "      <td>Hillary Clinton’s emails: Fax machines, socks</td>\n",
       "      <td>CNN</td>\n",
       "      <td>hillary clinton’s emails: fax machines, socks</td>\n",
       "      <td>LL</td>\n",
       "      <td>L</td>\n",
       "      <td>0</td>\n",
       "      <td>hillary clinton ppossession emails pcolon fax ...</td>\n",
       "    </tr>\n",
       "  </tbody>\n",
       "</table>\n",
       "</div>"
      ],
      "text/plain": [
       "                                               title publication  \\\n",
       "0      Major teachers union endorses Hillary Clinton         CNN   \n",
       "1  CIA head: U.S. could handle Iran nuclear inspe...         CNN   \n",
       "2  Primary elections 2016: Poll closing times and...         Vox   \n",
       "3  HBO’s The Young Pope stars Jude Law as a smirk...         Vox   \n",
       "4      Hillary Clinton’s emails: Fax machines, socks         CNN   \n",
       "\n",
       "                                            headline bias lean  is_sarcastic  \\\n",
       "0      major teachers union endorses hillary clinton   LL    L             0   \n",
       "1  cia head: usaabbrev could handle iran nuclear ...   LL    L             0   \n",
       "2  primary elections 2016: poll closing times and...   LL    L             0   \n",
       "3  hbo’s the young pope stars jude law as a smirk...   LL    L             0   \n",
       "4      hillary clinton’s emails: fax machines, socks   LL    L             0   \n",
       "\n",
       "                                           head_char  \n",
       "0      major teachers union endorses hillary clinton  \n",
       "1  cia head pcolon usaabbrev could handle iran nu...  \n",
       "2  primary elections 2016 pcolon poll closing tim...  \n",
       "3  hbo ppossession the young pope stars jude law ...  \n",
       "4  hillary clinton ppossession emails pcolon fax ...  "
      ]
     },
     "execution_count": 3,
     "metadata": {},
     "output_type": "execute_result"
    }
   ],
   "source": [
    "combined_df = a1.append(a2)\n",
    "shuffled_df = combined_df.sample(frac = 1).reset_index(drop = True)\n",
    "shuffled_df.head()"
   ]
  },
  {
   "cell_type": "code",
   "execution_count": 5,
   "metadata": {},
   "outputs": [],
   "source": [
    "shuffled_df.to_csv(\"Resources/Left_model_data.csv\")"
   ]
  },
  {
   "cell_type": "code",
   "execution_count": null,
   "metadata": {},
   "outputs": [],
   "source": []
  }
 ],
 "metadata": {
  "kernelspec": {
   "display_name": "Python 3",
   "language": "python",
   "name": "python3"
  },
  "language_info": {
   "codemirror_mode": {
    "name": "ipython",
    "version": 3
   },
   "file_extension": ".py",
   "mimetype": "text/x-python",
   "name": "python",
   "nbconvert_exporter": "python",
   "pygments_lexer": "ipython3",
   "version": "3.6.5"
  }
 },
 "nbformat": 4,
 "nbformat_minor": 2
}
