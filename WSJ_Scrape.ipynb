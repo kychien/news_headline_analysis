{
 "cells": [
  {
   "cell_type": "code",
   "execution_count": 1,
   "metadata": {},
   "outputs": [],
   "source": [
    "from splinter import Browser\n",
    "from bs4 import BeautifulSoup as bs\n",
    "import requests\n",
    "import time\n",
    "import pandas as pd"
   ]
  },
  {
   "cell_type": "code",
   "execution_count": 2,
   "metadata": {},
   "outputs": [],
   "source": [
    "url = \"https://www.wsj.com/news/archive/\""
   ]
  },
  {
   "cell_type": "code",
   "execution_count": 3,
   "metadata": {},
   "outputs": [],
   "source": [
    "executable_path = {'executable_path': 'chromedriver.exe'}\n",
    "browser = Browser('chrome', **executable_path, headless=False)"
   ]
  },
  {
   "cell_type": "code",
   "execution_count": 4,
   "metadata": {},
   "outputs": [],
   "source": [
    "november_days = 20181101\n",
    "december_days = 20181201\n",
    "january_days = 20190101\n",
    "\n",
    "titles = []\n",
    "\n",
    "while november_days < 20181131:\n",
    "    try:\n",
    "        browser.visit(url + str(november_days))\n",
    "        time.sleep(1)\n",
    "        soup = bs(browser.html, 'html.parser')\n",
    "        article_titles = soup.find_all(\"h3\")\n",
    "        for article in article_titles:\n",
    "            title = article.get_text()\n",
    "            titles.append(title)\n",
    "    except:\n",
    "        print(\"Failed to get articles for \" + str(november_days)+ \". Moving on to next day...\")\n",
    "    november_days = november_days + 1\n",
    "    \n",
    "while december_days < 20181232:\n",
    "    try:\n",
    "        browser.visit(url + str(december_days))\n",
    "        time.sleep(1)\n",
    "        soup = bs(browser.html, 'html.parser')\n",
    "        article_titles = soup.find_all(\"h3\")\n",
    "        for article in article_titles:\n",
    "            title = article.get_text()\n",
    "            titles.append(title)\n",
    "    except:\n",
    "        print(\"Failed to get articles for \" + str(december_days)+ \". Moving on to next day...\")\n",
    "    december_days = december_days + 1\n",
    "    \n",
    "while january_days < 20190131:\n",
    "    try:\n",
    "        browser.visit(url + str(january_days))\n",
    "        time.sleep(1)\n",
    "        soup = bs(browser.html, 'html.parser')\n",
    "        article_titles = soup.find_all(\"h3\")\n",
    "        for article in article_titles:\n",
    "            title = article.get_text()\n",
    "            titles.append(title)\n",
    "    except:\n",
    "        print(\"Failed to get articles for \" + str(january_days)+ \". Moving on to next day...\")\n",
    "    january_days = january_days + 1"
   ]
  },
  {
   "cell_type": "code",
   "execution_count": 5,
   "metadata": {},
   "outputs": [
    {
     "data": {
      "text/plain": [
       "6717"
      ]
     },
     "execution_count": 5,
     "metadata": {},
     "output_type": "execute_result"
    }
   ],
   "source": [
    "len(titles)"
   ]
  },
  {
   "cell_type": "code",
   "execution_count": 6,
   "metadata": {},
   "outputs": [
    {
     "data": {
      "text/html": [
       "<div>\n",
       "<style scoped>\n",
       "    .dataframe tbody tr th:only-of-type {\n",
       "        vertical-align: middle;\n",
       "    }\n",
       "\n",
       "    .dataframe tbody tr th {\n",
       "        vertical-align: top;\n",
       "    }\n",
       "\n",
       "    .dataframe thead th {\n",
       "        text-align: right;\n",
       "    }\n",
       "</style>\n",
       "<table border=\"1\" class=\"dataframe\">\n",
       "  <thead>\n",
       "    <tr style=\"text-align: right;\">\n",
       "      <th></th>\n",
       "      <th>title</th>\n",
       "      <th>publication</th>\n",
       "    </tr>\n",
       "  </thead>\n",
       "  <tbody>\n",
       "    <tr>\n",
       "      <th>0</th>\n",
       "      <td>Gulfport Energy CEO Steps Down After Review</td>\n",
       "      <td>WSJ</td>\n",
       "    </tr>\n",
       "    <tr>\n",
       "      <th>1</th>\n",
       "      <td>Corrections &amp; Amplifications</td>\n",
       "      <td>WSJ</td>\n",
       "    </tr>\n",
       "    <tr>\n",
       "      <th>2</th>\n",
       "      <td>In Pittsburgh, Preparing to Sit Shiva for 11</td>\n",
       "      <td>WSJ</td>\n",
       "    </tr>\n",
       "    <tr>\n",
       "      <th>3</th>\n",
       "      <td>University System of Maryland Board Chairman R...</td>\n",
       "      <td>WSJ</td>\n",
       "    </tr>\n",
       "    <tr>\n",
       "      <th>4</th>\n",
       "      <td>American World War II Base Will Be Rebuilt as ...</td>\n",
       "      <td>WSJ</td>\n",
       "    </tr>\n",
       "  </tbody>\n",
       "</table>\n",
       "</div>"
      ],
      "text/plain": [
       "                                               title publication\n",
       "0        Gulfport Energy CEO Steps Down After Review         WSJ\n",
       "1                       Corrections & Amplifications         WSJ\n",
       "2       In Pittsburgh, Preparing to Sit Shiva for 11         WSJ\n",
       "3  University System of Maryland Board Chairman R...         WSJ\n",
       "4  American World War II Base Will Be Rebuilt as ...         WSJ"
      ]
     },
     "execution_count": 6,
     "metadata": {},
     "output_type": "execute_result"
    }
   ],
   "source": [
    "title_df = pd.DataFrame()\n",
    "title_df[\"title\"] = titles\n",
    "title_df[\"publication\"] = \"WSJ\"\n",
    "title_df.head()"
   ]
  },
  {
   "cell_type": "code",
   "execution_count": 8,
   "metadata": {},
   "outputs": [],
   "source": [
    "title_df.to_csv(\"Resources/wsj_data.csv\", index = False)"
   ]
  },
  {
   "cell_type": "code",
   "execution_count": null,
   "metadata": {},
   "outputs": [],
   "source": []
  }
 ],
 "metadata": {
  "kernelspec": {
   "display_name": "Python 3",
   "language": "python",
   "name": "python3"
  },
  "language_info": {
   "codemirror_mode": {
    "name": "ipython",
    "version": 3
   },
   "file_extension": ".py",
   "mimetype": "text/x-python",
   "name": "python",
   "nbconvert_exporter": "python",
   "pygments_lexer": "ipython3",
   "version": "3.6.5"
  }
 },
 "nbformat": 4,
 "nbformat_minor": 2
}
