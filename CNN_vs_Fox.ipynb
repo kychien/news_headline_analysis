{
 "cells": [
  {
   "cell_type": "code",
   "execution_count": 1,
   "metadata": {},
   "outputs": [],
   "source": [
    "import pandas as pd"
   ]
  },
  {
   "cell_type": "code",
   "execution_count": 2,
   "metadata": {},
   "outputs": [],
   "source": [
    "a1 = pd.read_csv(\"Resources/CNN_headlines.csv\")\n",
    "a2 = pd.read_csv(\"Resources/Fox News_headlines.csv\")"
   ]
  },
  {
   "cell_type": "code",
   "execution_count": 3,
   "metadata": {},
   "outputs": [
    {
     "data": {
      "text/html": [
       "<div>\n",
       "<style scoped>\n",
       "    .dataframe tbody tr th:only-of-type {\n",
       "        vertical-align: middle;\n",
       "    }\n",
       "\n",
       "    .dataframe tbody tr th {\n",
       "        vertical-align: top;\n",
       "    }\n",
       "\n",
       "    .dataframe thead th {\n",
       "        text-align: right;\n",
       "    }\n",
       "</style>\n",
       "<table border=\"1\" class=\"dataframe\">\n",
       "  <thead>\n",
       "    <tr style=\"text-align: right;\">\n",
       "      <th></th>\n",
       "      <th>title</th>\n",
       "      <th>publication</th>\n",
       "      <th>headline</th>\n",
       "      <th>bias</th>\n",
       "      <th>lean</th>\n",
       "      <th>is_sarcastic</th>\n",
       "      <th>head_char</th>\n",
       "    </tr>\n",
       "  </thead>\n",
       "  <tbody>\n",
       "    <tr>\n",
       "      <th>0</th>\n",
       "      <td>CNN 10 - January 5, 2017</td>\n",
       "      <td>CNN</td>\n",
       "      <td>cnn 10 - january 5, 2017</td>\n",
       "      <td>LL</td>\n",
       "      <td>L</td>\n",
       "      <td>0</td>\n",
       "      <td>cnn 10 pdash january 5 pcomma 2017</td>\n",
       "    </tr>\n",
       "    <tr>\n",
       "      <th>1</th>\n",
       "      <td>Barca stuns PSG 6-1 in astonishing comeback</td>\n",
       "      <td>CNN</td>\n",
       "      <td>barca stuns psg 6-1 in astonishing comeback</td>\n",
       "      <td>LL</td>\n",
       "      <td>L</td>\n",
       "      <td>0</td>\n",
       "      <td>barca stuns psg 6 pdash 1 in astonishing comeback</td>\n",
       "    </tr>\n",
       "    <tr>\n",
       "      <th>2</th>\n",
       "      <td>Two killed in Belgian anti-terror operation</td>\n",
       "      <td>CNN</td>\n",
       "      <td>two killed in belgian anti-terror operation</td>\n",
       "      <td>LL</td>\n",
       "      <td>L</td>\n",
       "      <td>0</td>\n",
       "      <td>two killed in belgian anti pdash terror operation</td>\n",
       "    </tr>\n",
       "    <tr>\n",
       "      <th>3</th>\n",
       "      <td>Trump wins New Hampshire with help from Indepe...</td>\n",
       "      <td>Fox News</td>\n",
       "      <td>trump wins new hampshire with help from indepe...</td>\n",
       "      <td>RR</td>\n",
       "      <td>R</td>\n",
       "      <td>0</td>\n",
       "      <td>trump wins new hampshire with help from indepe...</td>\n",
       "    </tr>\n",
       "    <tr>\n",
       "      <th>4</th>\n",
       "      <td>When the Bronx Zoo exhibited a man in an iron ...</td>\n",
       "      <td>CNN</td>\n",
       "      <td>when the bronx zoo exhibited a man in an iron ...</td>\n",
       "      <td>LL</td>\n",
       "      <td>L</td>\n",
       "      <td>0</td>\n",
       "      <td>when the bronx zoo exhibited a man in an iron ...</td>\n",
       "    </tr>\n",
       "  </tbody>\n",
       "</table>\n",
       "</div>"
      ],
      "text/plain": [
       "                                               title publication  \\\n",
       "0                           CNN 10 - January 5, 2017         CNN   \n",
       "1        Barca stuns PSG 6-1 in astonishing comeback         CNN   \n",
       "2        Two killed in Belgian anti-terror operation         CNN   \n",
       "3  Trump wins New Hampshire with help from Indepe...    Fox News   \n",
       "4  When the Bronx Zoo exhibited a man in an iron ...         CNN   \n",
       "\n",
       "                                            headline bias lean  is_sarcastic  \\\n",
       "0                           cnn 10 - january 5, 2017   LL    L             0   \n",
       "1        barca stuns psg 6-1 in astonishing comeback   LL    L             0   \n",
       "2        two killed in belgian anti-terror operation   LL    L             0   \n",
       "3  trump wins new hampshire with help from indepe...   RR    R             0   \n",
       "4  when the bronx zoo exhibited a man in an iron ...   LL    L             0   \n",
       "\n",
       "                                           head_char  \n",
       "0                 cnn 10 pdash january 5 pcomma 2017  \n",
       "1  barca stuns psg 6 pdash 1 in astonishing comeback  \n",
       "2  two killed in belgian anti pdash terror operation  \n",
       "3  trump wins new hampshire with help from indepe...  \n",
       "4  when the bronx zoo exhibited a man in an iron ...  "
      ]
     },
     "execution_count": 3,
     "metadata": {},
     "output_type": "execute_result"
    }
   ],
   "source": [
    "combined_df = a1.append(a2)\n",
    "shuffled_df = combined_df.sample(frac = 1).reset_index(drop = True)\n",
    "shuffled_df.head()"
   ]
  },
  {
   "cell_type": "code",
   "execution_count": 4,
   "metadata": {},
   "outputs": [],
   "source": [
    "shuffled_df.to_csv(\"Resources/CNN_vs_Fox_data.csv\")"
   ]
  },
  {
   "cell_type": "code",
   "execution_count": null,
   "metadata": {},
   "outputs": [],
   "source": []
  }
 ],
 "metadata": {
  "kernelspec": {
   "display_name": "Python 3",
   "language": "python",
   "name": "python3"
  },
  "language_info": {
   "codemirror_mode": {
    "name": "ipython",
    "version": 3
   },
   "file_extension": ".py",
   "mimetype": "text/x-python",
   "name": "python",
   "nbconvert_exporter": "python",
   "pygments_lexer": "ipython3",
   "version": "3.6.5"
  }
 },
 "nbformat": 4,
 "nbformat_minor": 2
}
