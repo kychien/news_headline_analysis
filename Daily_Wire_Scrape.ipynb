{
 "cells": [
  {
   "cell_type": "code",
   "execution_count": 1,
   "metadata": {},
   "outputs": [],
   "source": [
    "from splinter import Browser\n",
    "from bs4 import BeautifulSoup as bs\n",
    "import requests\n",
    "import time\n",
    "import pandas as pd"
   ]
  },
  {
   "cell_type": "code",
   "execution_count": 2,
   "metadata": {},
   "outputs": [],
   "source": [
    "url = \"https://www.dailywire.com/\"\n",
    "executable_path = {'executable_path': 'chromedriver.exe'}\n",
    "browser = Browser('chrome', **executable_path, headless=False)\n",
    "browser.visit(url)"
   ]
  },
  {
   "cell_type": "code",
   "execution_count": 3,
   "metadata": {},
   "outputs": [
    {
     "name": "stdout",
     "output_type": "stream",
     "text": [
      "Show More clicked 1 times.\n",
      "Show More clicked 2 times.\n",
      "Show More clicked 3 times.\n",
      "Show More clicked 4 times.\n",
      "Show More clicked 5 times.\n",
      "Show More clicked 6 times.\n",
      "Show More clicked 7 times.\n",
      "Show More clicked 8 times.\n",
      "Show More clicked 9 times.\n",
      "Show More clicked 10 times.\n",
      "Show More clicked 11 times.\n",
      "Show More clicked 12 times.\n",
      "Show More clicked 13 times.\n",
      "Show More clicked 14 times.\n",
      "Show More clicked 15 times.\n",
      "Show More clicked 16 times.\n",
      "Show More clicked 17 times.\n",
      "Show More clicked 18 times.\n",
      "Show More clicked 19 times.\n",
      "Show More clicked 20 times.\n",
      "Show More clicked 21 times.\n",
      "Show More clicked 22 times.\n",
      "Show More clicked 23 times.\n",
      "Show More clicked 24 times.\n",
      "Show More clicked 25 times.\n",
      "Show More clicked 26 times.\n",
      "Show More clicked 27 times.\n",
      "Show More clicked 28 times.\n",
      "Show More clicked 29 times.\n",
      "Show More clicked 30 times.\n",
      "Show More clicked 31 times.\n",
      "Show More clicked 32 times.\n",
      "Show More clicked 33 times.\n",
      "Show More clicked 34 times.\n",
      "Show More clicked 35 times.\n",
      "Show More clicked 36 times.\n",
      "Show More clicked 37 times.\n",
      "Show More clicked 38 times.\n",
      "Show More clicked 39 times.\n",
      "Show More clicked 40 times.\n",
      "Show More clicked 41 times.\n",
      "Show More clicked 42 times.\n",
      "Show More clicked 43 times.\n",
      "Show More clicked 44 times.\n",
      "Show More clicked 45 times.\n",
      "Show More clicked 46 times.\n",
      "Show More clicked 47 times.\n",
      "Show More clicked 48 times.\n",
      "Show More clicked 49 times.\n",
      "Show More clicked 50 times.\n",
      "Show More clicked 51 times.\n",
      "Show More clicked 52 times.\n",
      "Show More clicked 53 times.\n",
      "Show More clicked 54 times.\n",
      "Show More clicked 55 times.\n",
      "Show More clicked 56 times.\n",
      "Show More clicked 57 times.\n",
      "Show More clicked 58 times.\n",
      "Show More clicked 59 times.\n",
      "Show More clicked 60 times.\n",
      "Show More clicked 61 times.\n",
      "Show More clicked 62 times.\n",
      "Show More clicked 63 times.\n",
      "Show More clicked 64 times.\n",
      "Show More clicked 65 times.\n",
      "Show More clicked 66 times.\n",
      "Show More clicked 67 times.\n",
      "Show More clicked 68 times.\n",
      "Show More clicked 69 times.\n",
      "Show More clicked 70 times.\n",
      "Show More clicked 71 times.\n",
      "Show More clicked 72 times.\n",
      "Show More clicked 73 times.\n",
      "Show More clicked 74 times.\n",
      "Show More clicked 75 times.\n",
      "Show More clicked 76 times.\n",
      "Show More clicked 77 times.\n",
      "Show More clicked 78 times.\n",
      "Show More clicked 79 times.\n",
      "Show More clicked 80 times.\n",
      "Show More clicked 81 times.\n",
      "Show More clicked 82 times.\n",
      "Show More clicked 83 times.\n",
      "Show More clicked 84 times.\n",
      "Show More clicked 85 times.\n",
      "Show More clicked 86 times.\n",
      "Show More clicked 87 times.\n",
      "Show More clicked 88 times.\n",
      "Show More clicked 89 times.\n",
      "Show More clicked 90 times.\n",
      "Show More clicked 91 times.\n",
      "Show More clicked 92 times.\n",
      "Show More clicked 93 times.\n",
      "Show More clicked 94 times.\n",
      "Show More clicked 95 times.\n",
      "Show More clicked 96 times.\n",
      "Show More clicked 97 times.\n",
      "Show More clicked 98 times.\n",
      "Show More clicked 99 times.\n",
      "Show More clicked 100 times.\n",
      "Show More clicked 101 times.\n",
      "Show More clicked 102 times.\n",
      "Show More clicked 103 times.\n",
      "Show More clicked 104 times.\n",
      "Error with Show More.  Stopping loop...\n"
     ]
    }
   ],
   "source": [
    "x = 0\n",
    "\n",
    "while x < 300:\n",
    "    try:\n",
    "        browser.find_link_by_text(\"Show More\").click()\n",
    "        time.sleep(1)\n",
    "        print(\"Show More clicked \" + str(x + 1) + \" times.\")\n",
    "        x = x + 1\n",
    "    except:\n",
    "        print(\"Error with Show More.  Stopping loop...\")\n",
    "        break"
   ]
  },
  {
   "cell_type": "code",
   "execution_count": null,
   "metadata": {},
   "outputs": [],
   "source": [
    "soup = bs(browser.html, 'html.parser')\n",
    "\n",
    "article_titles = soup.find_all(\"h3\")\n",
    "titles = []\n",
    "for article in article_titles:\n",
    "    title = article.get_text()\n",
    "    title = title.replace(\"\\n\", \"\")\n",
    "    titles.append(title)\n",
    "#titles"
   ]
  },
  {
   "cell_type": "code",
   "execution_count": null,
   "metadata": {},
   "outputs": [],
   "source": [
    "title_df = pd.DataFrame()"
   ]
  },
  {
   "cell_type": "code",
   "execution_count": null,
   "metadata": {},
   "outputs": [],
   "source": [
    "title_df[\"title\"] = titles\n",
    "title_df[\"publication\"] = \"Daily Wire\"\n",
    "title_df.head()"
   ]
  },
  {
   "cell_type": "code",
   "execution_count": null,
   "metadata": {},
   "outputs": [],
   "source": [
    "title_df[\"publication\"].count()"
   ]
  },
  {
   "cell_type": "code",
   "execution_count": null,
   "metadata": {},
   "outputs": [],
   "source": [
    "title_df.to_csv(\"Resources/daily_wire_large.csv\", index = False)"
   ]
  },
  {
   "cell_type": "code",
   "execution_count": 4,
   "metadata": {},
   "outputs": [
    {
     "data": {
      "text/plain": [
       "1477"
      ]
     },
     "execution_count": 4,
     "metadata": {},
     "output_type": "execute_result"
    }
   ],
   "source": [
    "wire_df = pd.read_csv(\"Resources/daily_wire_small.csv\")\n",
    "len(wire_df)"
   ]
  },
  {
   "cell_type": "code",
   "execution_count": null,
   "metadata": {},
   "outputs": [],
   "source": []
  }
 ],
 "metadata": {
  "kernelspec": {
   "display_name": "Python 3",
   "language": "python",
   "name": "python3"
  },
  "language_info": {
   "codemirror_mode": {
    "name": "ipython",
    "version": 3
   },
   "file_extension": ".py",
   "mimetype": "text/x-python",
   "name": "python",
   "nbconvert_exporter": "python",
   "pygments_lexer": "ipython3",
   "version": "3.6.5"
  }
 },
 "nbformat": 4,
 "nbformat_minor": 2
}
