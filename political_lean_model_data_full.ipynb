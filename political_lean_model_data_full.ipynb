{
 "cells": [
  {
   "cell_type": "code",
   "execution_count": 10,
   "metadata": {},
   "outputs": [],
   "source": [
    "import pandas as pd"
   ]
  },
  {
   "cell_type": "code",
   "execution_count": 11,
   "metadata": {},
   "outputs": [
    {
     "data": {
      "text/html": [
       "<div>\n",
       "<style scoped>\n",
       "    .dataframe tbody tr th:only-of-type {\n",
       "        vertical-align: middle;\n",
       "    }\n",
       "\n",
       "    .dataframe tbody tr th {\n",
       "        vertical-align: top;\n",
       "    }\n",
       "\n",
       "    .dataframe thead th {\n",
       "        text-align: right;\n",
       "    }\n",
       "</style>\n",
       "<table border=\"1\" class=\"dataframe\">\n",
       "  <thead>\n",
       "    <tr style=\"text-align: right;\">\n",
       "      <th></th>\n",
       "      <th>title</th>\n",
       "      <th>publication</th>\n",
       "      <th>headline</th>\n",
       "      <th>bias</th>\n",
       "      <th>lean</th>\n",
       "      <th>is_sarcastic</th>\n",
       "      <th>head_char</th>\n",
       "    </tr>\n",
       "  </thead>\n",
       "  <tbody>\n",
       "    <tr>\n",
       "      <th>0</th>\n",
       "      <td>Istanbul attack: Dozens killed at nightclub</td>\n",
       "      <td>CNN</td>\n",
       "      <td>istanbul attack: dozens killed at nightclub</td>\n",
       "      <td>LL</td>\n",
       "      <td>L</td>\n",
       "      <td>0</td>\n",
       "      <td>istanbul attack pcolon dozens killed at nightclub</td>\n",
       "    </tr>\n",
       "    <tr>\n",
       "      <th>1</th>\n",
       "      <td>Alabama, Clemson back in national title game</td>\n",
       "      <td>CNN</td>\n",
       "      <td>alabama, clemson back in national title game</td>\n",
       "      <td>LL</td>\n",
       "      <td>L</td>\n",
       "      <td>0</td>\n",
       "      <td>alabama pcomma clemson back in national title ...</td>\n",
       "    </tr>\n",
       "    <tr>\n",
       "      <th>2</th>\n",
       "      <td>New year celebrations ring in 2017</td>\n",
       "      <td>CNN</td>\n",
       "      <td>new year celebrations ring in 2017</td>\n",
       "      <td>LL</td>\n",
       "      <td>L</td>\n",
       "      <td>0</td>\n",
       "      <td>new year celebrations ring in 2017</td>\n",
       "    </tr>\n",
       "    <tr>\n",
       "      <th>3</th>\n",
       "      <td>Trump says he has inside information on hacking</td>\n",
       "      <td>CNN</td>\n",
       "      <td>trump says he has inside information on hacking</td>\n",
       "      <td>LL</td>\n",
       "      <td>L</td>\n",
       "      <td>0</td>\n",
       "      <td>trump says he has inside information on hacking</td>\n",
       "    </tr>\n",
       "    <tr>\n",
       "      <th>4</th>\n",
       "      <td>3 dead in Texas plane crash collision</td>\n",
       "      <td>CNN</td>\n",
       "      <td>3 dead in texas plane crash collision</td>\n",
       "      <td>LL</td>\n",
       "      <td>L</td>\n",
       "      <td>0</td>\n",
       "      <td>3 dead in texas plane crash collision</td>\n",
       "    </tr>\n",
       "  </tbody>\n",
       "</table>\n",
       "</div>"
      ],
      "text/plain": [
       "                                             title publication  \\\n",
       "0      Istanbul attack: Dozens killed at nightclub         CNN   \n",
       "1     Alabama, Clemson back in national title game         CNN   \n",
       "2               New year celebrations ring in 2017         CNN   \n",
       "3  Trump says he has inside information on hacking         CNN   \n",
       "4            3 dead in Texas plane crash collision         CNN   \n",
       "\n",
       "                                          headline bias lean  is_sarcastic  \\\n",
       "0      istanbul attack: dozens killed at nightclub   LL    L             0   \n",
       "1     alabama, clemson back in national title game   LL    L             0   \n",
       "2               new year celebrations ring in 2017   LL    L             0   \n",
       "3  trump says he has inside information on hacking   LL    L             0   \n",
       "4            3 dead in texas plane crash collision   LL    L             0   \n",
       "\n",
       "                                           head_char  \n",
       "0  istanbul attack pcolon dozens killed at nightclub  \n",
       "1  alabama pcomma clemson back in national title ...  \n",
       "2                 new year celebrations ring in 2017  \n",
       "3    trump says he has inside information on hacking  \n",
       "4              3 dead in texas plane crash collision  "
      ]
     },
     "execution_count": 11,
     "metadata": {},
     "output_type": "execute_result"
    }
   ],
   "source": [
    "df = pd.read_csv(\"Resources/combined_headlines.csv\")\n",
    "df.head()"
   ]
  },
  {
   "cell_type": "code",
   "execution_count": 12,
   "metadata": {},
   "outputs": [
    {
     "data": {
      "text/plain": [
       "L    105300\n",
       "R     36014\n",
       "Name: lean, dtype: int64"
      ]
     },
     "execution_count": 12,
     "metadata": {},
     "output_type": "execute_result"
    }
   ],
   "source": [
    "full_df = df.loc[df[\"lean\"] != \"N\", :]\n",
    "full_df[\"lean\"].value_counts()"
   ]
  },
  {
   "cell_type": "code",
   "execution_count": 13,
   "metadata": {},
   "outputs": [
    {
     "data": {
      "text/plain": [
       "New York Post          17490\n",
       "Huffington Post        14985\n",
       "NPR                    11986\n",
       "CNN                    11469\n",
       "Washington Post        11113\n",
       "Reuters                10707\n",
       "Guardian                8676\n",
       "New York Times          7796\n",
       "Atlantic                7124\n",
       "Business Insider        6703\n",
       "WSJ                     6501\n",
       "National Review         6199\n",
       "Talking Points Memo     5179\n",
       "Vox                     4942\n",
       "Buzzfeed News           4620\n",
       "Fox News                4352\n",
       "Daily Wire              1472\n",
       "Name: publication, dtype: int64"
      ]
     },
     "execution_count": 13,
     "metadata": {},
     "output_type": "execute_result"
    }
   ],
   "source": [
    "full_df[\"publication\"].value_counts()"
   ]
  },
  {
   "cell_type": "code",
   "execution_count": 18,
   "metadata": {},
   "outputs": [
    {
     "data": {
      "text/plain": [
       "L    40499\n",
       "R    36014\n",
       "Name: lean, dtype: int64"
      ]
     },
     "execution_count": 18,
     "metadata": {},
     "output_type": "execute_result"
    }
   ],
   "source": [
    "cut_df = full_df.loc[(full_df[\"publication\"] != \"Huffington Post\") & (full_df[\"publication\"] != \"NPR\") & (full_df[\"publication\"] != \"Reuters\") & \n",
    "                     (full_df[\"publication\"] != \"Atlantic\") & (full_df[\"publication\"] != \"Huffington Post\") & (full_df[\"publication\"] != \"Business Insider\") &\n",
    "                     (full_df[\"publication\"] != \"Guardian\") & (full_df[\"publication\"] != \"Buzzfeed News\")]\n",
    "cut_df[\"lean\"].value_counts()"
   ]
  },
  {
   "cell_type": "code",
   "execution_count": 19,
   "metadata": {},
   "outputs": [],
   "source": [
    "cut_df.to_csv(\"Resources/lean_model_data_full.csv\", index = False)"
   ]
  },
  {
   "cell_type": "code",
   "execution_count": 8,
   "metadata": {},
   "outputs": [],
   "source": []
  },
  {
   "cell_type": "code",
   "execution_count": null,
   "metadata": {},
   "outputs": [],
   "source": []
  }
 ],
 "metadata": {
  "kernelspec": {
   "display_name": "Python 3",
   "language": "python",
   "name": "python3"
  },
  "language_info": {
   "codemirror_mode": {
    "name": "ipython",
    "version": 3
   },
   "file_extension": ".py",
   "mimetype": "text/x-python",
   "name": "python",
   "nbconvert_exporter": "python",
   "pygments_lexer": "ipython3",
   "version": "3.6.5"
  }
 },
 "nbformat": 4,
 "nbformat_minor": 2
}
