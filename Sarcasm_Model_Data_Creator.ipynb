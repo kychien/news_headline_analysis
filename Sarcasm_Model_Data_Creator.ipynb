{
 "cells": [
  {
   "cell_type": "code",
   "execution_count": 1,
   "metadata": {},
   "outputs": [],
   "source": [
    "import pandas as pd"
   ]
  },
  {
   "cell_type": "code",
   "execution_count": 2,
   "metadata": {},
   "outputs": [
    {
     "data": {
      "text/plain": [
       "Breitbart              23780\n",
       "New York Post          17490\n",
       "Huffington Post        14985\n",
       "NPR                    11986\n",
       "The Onion              11724\n",
       "CNN                    11469\n",
       "Washington Post        11113\n",
       "Reuters                10707\n",
       "Guardian                8676\n",
       "New York Times          7796\n",
       "Atlantic                7124\n",
       "Business Insider        6703\n",
       "WSJ                     6501\n",
       "National Review         6199\n",
       "Talking Points Memo     5179\n",
       "Vox                     4942\n",
       "Buzzfeed News           4620\n",
       "Fox News                4352\n",
       "Daily Wire              1472\n",
       "Name: publication, dtype: int64"
      ]
     },
     "execution_count": 2,
     "metadata": {},
     "output_type": "execute_result"
    }
   ],
   "source": [
    "df = pd.read_csv(\"Resources/combined_headlines.csv\")\n",
    "df[\"publication\"].value_counts()"
   ]
  },
  {
   "cell_type": "code",
   "execution_count": 3,
   "metadata": {},
   "outputs": [],
   "source": [
    "publisher_names = [\"CNN\", \"Washington Post\", \"New York Post\", \"New York Times\", \"WSJ\"]"
   ]
  },
  {
   "cell_type": "code",
   "execution_count": 6,
   "metadata": {},
   "outputs": [
    {
     "name": "stdout",
     "output_type": "stream",
     "text": [
      "<class 'pandas.core.frame.DataFrame'>\n",
      "Int64Index: 23193 entries, 0 to 176817\n",
      "Data columns (total 7 columns):\n",
      "title           23193 non-null object\n",
      "publication     23193 non-null object\n",
      "headline        23193 non-null object\n",
      "bias            23193 non-null object\n",
      "lean            23193 non-null object\n",
      "is_sarcastic    23193 non-null int64\n",
      "head_char       23193 non-null object\n",
      "dtypes: int64(1), object(6)\n",
      "memory usage: 1.4+ MB\n"
     ]
    }
   ],
   "source": [
    "sarc_df = df.loc[(df[\"publication\"] == \"The Onion\") | (df[\"publication\"] == \"CNN\")]\n",
    "sarc_df.info()"
   ]
  },
  {
   "cell_type": "code",
   "execution_count": 7,
   "metadata": {},
   "outputs": [],
   "source": [
    "for publisher in publisher_names:\n",
    "    sarc_df = df.loc[(df[\"publication\"] == \"The Onion\") | (df[\"publication\"] == publisher)]\n",
    "    name = publisher.lower().replace(\" \", \"_\")\n",
    "    sarc_df.to_csv(\"Resources/sarcasm_model_\" + name + \".csv\")"
   ]
  },
  {
   "cell_type": "code",
   "execution_count": null,
   "metadata": {},
   "outputs": [],
   "source": []
  }
 ],
 "metadata": {
  "kernelspec": {
   "display_name": "Python 3",
   "language": "python",
   "name": "python3"
  },
  "language_info": {
   "codemirror_mode": {
    "name": "ipython",
    "version": 3
   },
   "file_extension": ".py",
   "mimetype": "text/x-python",
   "name": "python",
   "nbconvert_exporter": "python",
   "pygments_lexer": "ipython3",
   "version": "3.6.5"
  }
 },
 "nbformat": 4,
 "nbformat_minor": 2
}
